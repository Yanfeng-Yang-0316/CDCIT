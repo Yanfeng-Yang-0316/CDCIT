{
 "cells": [
  {
   "cell_type": "code",
   "execution_count": 1,
   "id": "ec26308f",
   "metadata": {},
   "outputs": [],
   "source": [
    "from datageneration import * \n",
    "from diffusion_crt import *"
   ]
  },
  {
   "cell_type": "code",
   "execution_count": 2,
   "id": "38534c89",
   "metadata": {
    "scrolled": true
   },
   "outputs": [
    {
     "name": "stdout",
     "output_type": "stream",
     "text": [
      "0.89\n"
     ]
    }
   ],
   "source": [
    "total_x,total_y,total_z,_,_=data_gen(n_samples=1000, dim=20, test_type=True, noise='gaussian', seed=667)\n",
    "xxx=total_x[:500,:]\n",
    "yyy=total_y[:500,:]\n",
    "zzz=total_z[:500,:]\n",
    "\n",
    "xxx_crt=total_x[500:,:]\n",
    "yyy_crt=total_y[500:,:]\n",
    "zzz_crt=total_z[500:,:]\n",
    "p_val=perform_diffusion_crt(xxx, yyy, zzz, xxx_crt, yyy_crt, zzz_crt, \n",
    "                            repeat=100, device=torch.device('cuda'), \n",
    "                            verbose=False, seed=777, stat='cmi',sampling_model='score')\n",
    "\n",
    "print(p_val)"
   ]
  },
  {
   "cell_type": "code",
   "execution_count": 3,
   "id": "d197910e",
   "metadata": {},
   "outputs": [
    {
     "name": "stdout",
     "output_type": "stream",
     "text": [
      "0.77\n"
     ]
    }
   ],
   "source": [
    "total_x,total_y,total_z,_,_=data_continuous_discrete(n_samples=1000, dim=20, test_type=True, noise='gaussian', seed=888)\n",
    "xxx=total_x[:500,:]\n",
    "yyy=total_y[:500,:]\n",
    "zzz=total_z[:500,:]\n",
    "\n",
    "xxx_crt=total_x[500:,:]\n",
    "yyy_crt=total_y[500:,:]\n",
    "zzz_crt=total_z[500:,:]\n",
    "p_val=perform_diffusion_crt(xxx, yyy, zzz, xxx_crt, yyy_crt, zzz_crt, \n",
    "                            repeat=100, device=torch.device('cuda'), \n",
    "                            verbose=False, seed=999, stat='cmi',sampling_model='score')\n",
    "\n",
    "print(p_val)"
   ]
  },
  {
   "cell_type": "code",
   "execution_count": 4,
   "id": "2545aa19",
   "metadata": {},
   "outputs": [
    {
     "name": "stdout",
     "output_type": "stream",
     "text": [
      "0.0\n"
     ]
    }
   ],
   "source": [
    "total_x,total_y,total_z,_,_=data_gen(n_samples=1000, dim=20, test_type=False, noise='gaussian', seed=111)\n",
    "xxx=total_x[:500,:]\n",
    "yyy=total_y[:500,:]\n",
    "zzz=total_z[:500,:]\n",
    "\n",
    "xxx_crt=total_x[500:,:]\n",
    "yyy_crt=total_y[500:,:]\n",
    "zzz_crt=total_z[500:,:]\n",
    "p_val=perform_diffusion_crt(xxx, yyy, zzz, xxx_crt, yyy_crt, zzz_crt, \n",
    "                            repeat=100, device=torch.device('cuda'), \n",
    "                            verbose=False, seed=222, stat='cmi',sampling_model='score')\n",
    "\n",
    "print(p_val)"
   ]
  },
  {
   "cell_type": "code",
   "execution_count": 5,
   "id": "bc86fc62",
   "metadata": {},
   "outputs": [
    {
     "name": "stdout",
     "output_type": "stream",
     "text": [
      "0.0\n"
     ]
    }
   ],
   "source": [
    "total_x,total_y,total_z,_,_=data_continuous_discrete(n_samples=1000, dim=20, test_type=False, noise='gaussian', seed=333)\n",
    "xxx=total_x[:500,:]\n",
    "yyy=total_y[:500,:]\n",
    "zzz=total_z[:500,:]\n",
    "\n",
    "xxx_crt=total_x[500:,:]\n",
    "yyy_crt=total_y[500:,:]\n",
    "zzz_crt=total_z[500:,:]\n",
    "p_val=perform_diffusion_crt(xxx, yyy, zzz, xxx_crt, yyy_crt, zzz_crt, \n",
    "                            repeat=100, device=torch.device('cuda'), \n",
    "                            verbose=False, seed=444, stat='cmi',sampling_model='score')\n",
    "\n",
    "print(p_val)"
   ]
  },
  {
   "cell_type": "code",
   "execution_count": 6,
   "id": "812b0c2c",
   "metadata": {},
   "outputs": [
    {
     "name": "stdout",
     "output_type": "stream",
     "text": [
      "0.87\n"
     ]
    }
   ],
   "source": [
    "total_x,total_y,total_z,_,_=data_gen(n_samples=1000, dim=20, test_type=True, noise='gaussian', seed=667)\n",
    "xxx=total_x[:500,:]\n",
    "yyy=total_y[:500,:]\n",
    "zzz=total_z[:500,:]\n",
    "\n",
    "xxx_crt=total_x[500:,:]\n",
    "yyy_crt=total_y[500:,:]\n",
    "zzz_crt=total_z[500:,:]\n",
    "p_val=perform_diffusion_crt(xxx, yyy, zzz, xxx_crt, yyy_crt, zzz_crt, \n",
    "                            repeat=100, device=torch.device('cuda'), \n",
    "                            verbose=False, seed=777, stat='cmi',sampling_model='ddpm') # ← see here\n",
    "\n",
    "print(p_val)"
   ]
  },
  {
   "cell_type": "code",
   "execution_count": null,
   "id": "1dea6ac2",
   "metadata": {},
   "outputs": [],
   "source": []
  }
 ],
 "metadata": {
  "kernelspec": {
   "display_name": "Python 3 (ipykernel)",
   "language": "python",
   "name": "python3"
  },
  "language_info": {
   "codemirror_mode": {
    "name": "ipython",
    "version": 3
   },
   "file_extension": ".py",
   "mimetype": "text/x-python",
   "name": "python",
   "nbconvert_exporter": "python",
   "pygments_lexer": "ipython3",
   "version": "3.10.9"
  }
 },
 "nbformat": 4,
 "nbformat_minor": 5
}
